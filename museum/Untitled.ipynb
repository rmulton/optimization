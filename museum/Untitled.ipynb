{
 "cells": [
  {
   "cell_type": "code",
   "execution_count": 64,
   "metadata": {},
   "outputs": [],
   "source": [
    "input_file = open(\"./input_9.txt\", \"r\")"
   ]
  },
  {
   "cell_type": "code",
   "execution_count": 65,
   "metadata": {},
   "outputs": [
    {
     "name": "stdout",
     "output_type": "stream",
     "text": [
      "[(301, 628), (152, 506), (543, 152), (358, 17), (655, 642)]\n",
      "[{'radius': 4, 'price': 1}, {'radius': 8, 'price': 2}]\n"
     ]
    }
   ],
   "source": [
    "# artwork = [(x, y), ...]\n",
    "artworks = []\n",
    "# cameras = [{\"price\": 1, \"radius\": 2}, ...]\n",
    "cameras = []\n",
    "\n",
    "for i, line in enumerate(input_file.readlines()):\n",
    "    line = line.strip(\"\\n\").split(\",\")\n",
    "    line = (int(line[0]),int(line[1]))\n",
    "    if i>=2:\n",
    "        artworks.append(line)\n",
    "    elif i==0:\n",
    "        for j, rad in enumerate(line):\n",
    "            cameras.append({})\n",
    "            cameras[j][\"radius\"] = rad\n",
    "    elif i==1:\n",
    "        for k, price in enumerate(line):\n",
    "            cameras[k][\"price\"] = price\n",
    "\n",
    "print(artworks[0:5])\n",
    "print(cameras)"
   ]
  },
  {
   "cell_type": "code",
   "execution_count": null,
   "metadata": {
    "collapsed": true
   },
   "outputs": [],
   "source": []
  }
 ],
 "metadata": {
  "kernelspec": {
   "display_name": "Python 3",
   "language": "python",
   "name": "python3"
  },
  "language_info": {
   "codemirror_mode": {
    "name": "ipython",
    "version": 3
   },
   "file_extension": ".py",
   "mimetype": "text/x-python",
   "name": "python",
   "nbconvert_exporter": "python",
   "pygments_lexer": "ipython3",
   "version": "3.6.3"
  }
 },
 "nbformat": 4,
 "nbformat_minor": 2
}
