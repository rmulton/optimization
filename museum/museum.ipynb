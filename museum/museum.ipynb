{
 "cells": [
  {
   "cell_type": "code",
   "execution_count": 21,
   "metadata": {
    "collapsed": true
   },
   "outputs": [],
   "source": [
    "input_file = open(\"./input_9.txt\", \"r\")"
   ]
  },
  {
   "cell_type": "code",
   "execution_count": 22,
   "metadata": {},
   "outputs": [
    {
     "name": "stdout",
     "output_type": "stream",
     "text": [
      "(301, 628) (152, 506) (543, 152) (358, 17) (655, 642)\n",
      "[{'radius': 4, 'price': 1}, {'radius': 8, 'price': 2}]\n",
      "{'radius': 4, 'price': 1} {'radius': 8, 'price': 2}\n"
     ]
    }
   ],
   "source": [
    "# artwork = [(x, y), ...]\n",
    "artworks = []\n",
    "# cameras = [{\"price\": 1, \"radius\": 2}, ...]\n",
    "cameras = []\n",
    "\n",
    "for i, line in enumerate(input_file.readlines()):\n",
    "    line = line.strip(\"\\n\").split(\",\")\n",
    "    line = (int(line[0]),int(line[1]))\n",
    "    if i>=2:\n",
    "        artworks.append(line)\n",
    "    elif i==0:\n",
    "        for j, rad in enumerate(line):\n",
    "            cameras.append({})\n",
    "            cameras[j][\"radius\"] = rad\n",
    "    elif i==1:\n",
    "        for k, price in enumerate(line):\n",
    "            cameras[k][\"price\"] = price\n",
    "\n",
    "print(*artworks[0:5])\n",
    "print(cameras)\n",
    "camera_1 = cameras[0]\n",
    "camera_2 = cameras[1]\n",
    "print(camera_1, camera_2)"
   ]
  },
  {
   "cell_type": "code",
   "execution_count": 23,
   "metadata": {
    "collapsed": true
   },
   "outputs": [],
   "source": [
    "from pyscipopt import Model, quicksum"
   ]
  },
  {
   "cell_type": "code",
   "execution_count": 24,
   "metadata": {
    "collapsed": true
   },
   "outputs": [],
   "source": [
    "model = Model(\"museum\")"
   ]
  },
  {
   "cell_type": "code",
   "execution_count": 25,
   "metadata": {},
   "outputs": [
    {
     "name": "stdout",
     "output_type": "stream",
     "text": [
      "1000\n"
     ]
    }
   ],
   "source": [
    "cameras_1 = []\n",
    "cameras_2 = []\n",
    "grid_size = max(max([artwork[0], artwork[1]] for artwork in artworks))\n",
    "grid_size = 1000\n",
    "print(grid_size)\n",
    "for i in range(grid_size):\n",
    "    cameras_1.append([])\n",
    "    cameras_2.append([])\n",
    "    for j in range(grid_size):\n",
    "        cameras_1[i].append(model.addVar(name=\"cameras_1_{}_{}\".format(i,j), vtype=\"I\", lb=0, ub=2)) # NB : < ou <= ??\n",
    "        cameras_2[i].append(model.addVar(name=\"cameras_2_{}_{}\".format(i,j), vtype=\"I\", lb=0, ub=2))"
   ]
  },
  {
   "cell_type": "code",
   "execution_count": null,
   "metadata": {},
   "outputs": [],
   "source": []
  },
  {
   "cell_type": "code",
   "execution_count": 26,
   "metadata": {},
   "outputs": [],
   "source": [
    "model.setObjective(\\\n",
    "                   camera_1[\"price\"]*quicksum(cameras_1[i][j] for i in range(grid_size) for j in range(grid_size))\\\n",
    "                   + camera_2[\"price\"]*quicksum(cameras_2[i][j] for i in range(grid_size) for j in range(grid_size)),\\\n",
    "                   \"minimize\")"
   ]
  },
  {
   "cell_type": "code",
   "execution_count": 27,
   "metadata": {},
   "outputs": [],
   "source": [
    "def distance(i, j, x, y):\n",
    "    return ((i - x)**2 + (j - y)**2)**(1/2)\n",
    "\n",
    "for artwork in artworks:\n",
    "    i = artwork[0]\n",
    "    j = artwork[1]\n",
    "    i_min1 = i - camera_1[\"radius\"] if i - camera_1[\"radius\"]>0 else 0\n",
    "    i_max1 = i + camera_1[\"radius\"] if i + camera_1[\"radius\"]<len(cameras_1) else len(cameras_1)\n",
    "    j_min1 = j - camera_1[\"radius\"] if j - camera_1[\"radius\"]>0 else 0\n",
    "    j_max1 = j + camera_1[\"radius\"] if j + camera_1[\"radius\"]<len(cameras_1) else len(cameras_1)\n",
    "    \n",
    "    i_min2 = i - camera_2[\"radius\"] if i - camera_2[\"radius\"]>0 else 0\n",
    "    i_max2 = i + camera_2[\"radius\"] if i + camera_2[\"radius\"]<len(cameras_2) else len(cameras_2)\n",
    "    j_min2 = j - camera_2[\"radius\"] if j - camera_2[\"radius\"]>0 else 0\n",
    "    j_max2 = j + camera_2[\"radius\"] if j + camera_2[\"radius\"]<len(cameras_2) else len(cameras_2)\n",
    "    \n",
    "    accurate_cameras = [cameras_1[x][y] for x in range(i_min1, i_max1) for y in range(j_min1, j_max1) if distance(i, j, x, y)-camera_1[\"radius\"]<=0] +\\\n",
    "    [cameras_2[x][y] for x in range(i_min2, i_max2) for y in range(j_min2, j_max2) if distance(i, j, x, y)-camera_2[\"radius\"]<=0]\n",
    "\n",
    "    model.addCons(quicksum(camera for camera in accurate_cameras)>=1)"
   ]
  },
  {
   "cell_type": "code",
   "execution_count": 28,
   "metadata": {
    "collapsed": true
   },
   "outputs": [],
   "source": [
    "model.optimize()"
   ]
  },
  {
   "cell_type": "code",
   "execution_count": 29,
   "metadata": {},
   "outputs": [
    {
     "name": "stdout",
     "output_type": "stream",
     "text": [
      "2700.0\n"
     ]
    }
   ],
   "source": [
    "print(model.getObjVal())"
   ]
  },
  {
   "cell_type": "code",
   "execution_count": 30,
   "metadata": {},
   "outputs": [],
   "source": [
    "output_file = open(\"solution.txt\", \"w\")\n",
    "\n",
    "for i, line in enumerate(cameras_1):\n",
    "    for j, camera_1 in enumerate(line):\n",
    "        if model.getVal(camera_1) == 1:\n",
    "            output_file.write(\"{},{},{}\\n\".format(\"1\",i,j))\n",
    "\n",
    "for i, line in enumerate(cameras_2):\n",
    "    for j, camera_2 in enumerate(line):\n",
    "        if model.getVal(camera_2) == 1:\n",
    "            output_file.write(\"{},{},{}\\n\".format(\"2\",i,j))\n",
    "            \n",
    "output_file.close()"
   ]
  },
  {
   "cell_type": "code",
   "execution_count": null,
   "metadata": {
    "collapsed": true
   },
   "outputs": [],
   "source": []
  }
 ],
 "metadata": {
  "kernelspec": {
   "display_name": "Python 3",
   "language": "python",
   "name": "python3"
  }
 },
 "nbformat": 4,
 "nbformat_minor": 2
}
