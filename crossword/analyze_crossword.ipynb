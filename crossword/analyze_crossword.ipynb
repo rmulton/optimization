{
 "cells": [
  {
   "cell_type": "code",
   "execution_count": 1,
   "metadata": {
    "collapsed": true
   },
   "outputs": [],
   "source": [
    "import re\n",
    "import math\n",
    "\n",
    "WORDS = \"../words2.txt\"\n",
    "CROSSWORD = \"../crossword2.txt\""
   ]
  },
  {
   "cell_type": "code",
   "execution_count": 2,
   "metadata": {
    "collapsed": true
   },
   "outputs": [],
   "source": [
    "def read_words(path):\n",
    "    f = open(path, \"r\")\n",
    "    lines = f.readlines()\n",
    "    return [line.strip() for line in lines]\n",
    "\n",
    "words = read_words(WORDS)\n",
    "#print(words)"
   ]
  },
  {
   "cell_type": "code",
   "execution_count": 3,
   "metadata": {
    "collapsed": true
   },
   "outputs": [],
   "source": [
    "hashes_regex = re.compile(\"\\.+\")\n",
    "\n",
    "class Line:\n",
    "    def __init__(self, origin, end):\n",
    "        self.origin = origin\n",
    "        self.end = end\n",
    "    def __repr__(self):\n",
    "        return \"<origin: {}, end: {}>\".format(str(self.origin), str(self.end))\n",
    "    def length(self):\n",
    "        return max(math.fabs(self.origin[0] - self.end[0]), math.fabs(self.origin[1] - self.end[1]))+1\n",
    "    def get_type(self):\n",
    "        if self.is_vertical():\n",
    "            return \"vertical\"\n",
    "        if self.is_horizontal():\n",
    "            return \"horizontal\"\n",
    "    def is_vertical(self):\n",
    "        return self.origin[0]==self.end[0] and self.origin[1]!=self.origin[1]\n",
    "    def is_horizontal(self):\n",
    "        return self.origin[1]==self.end[1] and self.origin[0]!=self.origin[0]\n",
    "    \n",
    "\n",
    "def parse_horizontally(path):\n",
    "    f = open(path, \"r\")\n",
    "    horizontal_dots = []\n",
    "    lines = f.readlines()\n",
    "    for i, line in enumerate(lines):\n",
    "        line = line.strip()\n",
    "        positions = hashes_regex.finditer(line)\n",
    "        for pos in positions:\n",
    "            dot_line = Line((pos.span()[0], i), (pos.span()[1]-1, i))\n",
    "            if dot_line.length()>1:\n",
    "                horizontal_dots.append(dot_line)\n",
    "    return horizontal_dots\n",
    "\n",
    "def get_columns(path):\n",
    "    f = open(path, \"r\")\n",
    "    lines = f.readlines()\n",
    "    columns = ['' for i in range(len(lines))]\n",
    "    for line in lines:\n",
    "        for caract in enumerate(line):\n",
    "            if caract[1] != \"\\n\":\n",
    "                columns[caract[0]] += caract[1]\n",
    "    return columns\n",
    "    \n",
    "# NB : the y axis is reversed\n",
    "def parse_vertically(path):\n",
    "    vertical_dots = []\n",
    "    columns = get_columns(path)\n",
    "    for i, column in enumerate(columns):\n",
    "        positions = hashes_regex.finditer(column)\n",
    "        for pos in positions:\n",
    "            dot_column = Line((i, pos.span()[0]), (i, pos.span()[1]-1))\n",
    "            if dot_column.length()>1:\n",
    "                vertical_dots.append(dot_column)\n",
    "    return vertical_dots\n",
    "\n",
    "def read_crossword(path):\n",
    "    # Horizontal lines\n",
    "    horizontal_lines = parse_horizontally(path)\n",
    "    # Vertical lines\n",
    "    vertical_lines = parse_vertically(path)\n",
    "    return horizontal_lines, vertical_lines\n",
    "    \n",
    "hlines, vlines = read_crossword(CROSSWORD)\n",
    "#print(hlines)\n",
    "#print(vlines)"
   ]
  },
  {
   "cell_type": "code",
   "execution_count": 4,
   "metadata": {
    "collapsed": true,
    "scrolled": true
   },
   "outputs": [],
   "source": [
    "def find_intersection(h_line, v_line):\n",
    "    # Better: use the fact that it is necessary for the intersection to have v_line x position and h_line y position\n",
    "    a = h_line.origin[0]<= v_line.origin[0]\n",
    "    b = v_line.origin[0]<=h_line.end[0]\n",
    "    c = v_line.origin[1]<=h_line.origin[1]\n",
    "    d = v_line.origin[1]<= h_line.origin[1]\n",
    "    e = h_line.origin[1]<=v_line.end[1]\n",
    "    f = v_line.origin[0]>=h_line.origin[0]\n",
    "    if a and b and c and d and e and f:\n",
    "        return (v_line.origin[0], h_line.origin[1])\n",
    "    else:\n",
    "        return None\n",
    "\n",
    "def find_intersections(hlines, vlines):\n",
    "    intersections = []\n",
    "    \"\"\"\n",
    "    [\n",
    "        {\n",
    "            \"which\": (\n",
    "                nieme ligne de dots hlines,\n",
    "                mieme colonne de dots vlines\n",
    "                ),\n",
    "            \"position\": (x, y)\n",
    "    ]\n",
    "    \"\"\"\n",
    "    for i, h_line in enumerate(hlines):\n",
    "        for j, v_line in enumerate(vlines):\n",
    "            intersection = find_intersection(h_line, v_line)\n",
    "            if intersection != None:\n",
    "                u = intersection[0] - h_line.origin[0]\n",
    "                v = intersection[1] - v_line.origin[1]\n",
    "                intersections.append({\"position_in_crossword\":intersection, \"position_in_lines\":(u, v), \"which\":(i, j)})\n",
    "    return intersections\n",
    "\n",
    "intersections = find_intersections(hlines, vlines)\n",
    "#print(intersections)"
   ]
  },
  {
   "cell_type": "code",
   "execution_count": 5,
   "metadata": {
    "collapsed": true
   },
   "outputs": [],
   "source": [
    "class Crossword:\n",
    "    def __init__(self, path):\n",
    "        self.path = path\n",
    "        self.find_lines()\n",
    "        self.find_intersections()\n",
    "    def find_lines(self):\n",
    "        self.hlines, self.vlines = read_crossword(self.path)\n",
    "    def find_intersections(self):\n",
    "        self.intersections = find_intersections(self.hlines, self.vlines)\n",
    "    def __repr__(self):\n",
    "        return \"horizontal lines: {}\\nvertical lines: {}\\nintersections: {}>\".format(self.hlines, self.vlines, self.intersections)\n",
    "        \n",
    "cw = Crossword(CROSSWORD)\n",
    "#print(cw)"
   ]
  },
  {
   "cell_type": "code",
   "execution_count": 6,
   "metadata": {
    "collapsed": true
   },
   "outputs": [],
   "source": [
    "from constraint_programming import constraint_programming"
   ]
  },
  {
   "cell_type": "code",
   "execution_count": 7,
   "metadata": {
    "collapsed": true
   },
   "outputs": [],
   "source": [
    "class CrosswordProblem:\n",
    "    def __init__(self, wordspath, crosswordspath):\n",
    "        self.words = read_words(wordspath)\n",
    "        self.crossword = Crossword(crosswordspath)\n",
    "    def __repr__(self):\n",
    "        return \"Words: {}\\nCrossword:\\n{}\".format(self.words, self.crossword)\n",
    "\n",
    "pb = CrosswordProblem(WORDS, CROSSWORD)\n",
    "#pb"
   ]
  },
  {
   "cell_type": "code",
   "execution_count": 8,
   "metadata": {
    "collapsed": true
   },
   "outputs": [],
   "source": [
    "# A line and its word have the same length\n",
    "var = {str(line): set([word for word in words if len(word)==line.length()]) for line in cw.hlines+cw.vlines}\n",
    "P = constraint_programming(var)"
   ]
  },
  {
   "cell_type": "code",
   "execution_count": null,
   "metadata": {},
   "outputs": [
    {
     "name": "stdout",
     "output_type": "stream",
     "text": [
      "2018-01-25 00:15:22.509589\n"
     ]
    }
   ],
   "source": [
    "import datetime\n",
    "print(datetime.datetime.now())"
   ]
  },
  {
   "cell_type": "code",
   "execution_count": null,
   "metadata": {
    "collapsed": true
   },
   "outputs": [],
   "source": [
    "# Intersections\n",
    "def get_intersection_possibilities(i, j, hlength, vlength):\n",
    "    return {(word, other_word) for word in words for other_word in words if (len(word)==hlength and len(other_word)==vlength and word[i]==other_word[j] and word!=other_word)}\n",
    "\n",
    "for intersection in intersections:\n",
    "    which_h = intersection['which'][0]\n",
    "    hline = hlines[which_h]\n",
    "    which_v = intersection['which'][1]\n",
    "    vline = vlines[which_v]\n",
    "    SAME_LETTER_INTERSECT = get_intersection_possibilities(*intersection['position_in_lines'], hline.length(), vline.length())\n",
    "    P.addConstraint(str(hline), str(vline), SAME_LETTER_INTERSECT)\n"
   ]
  },
  {
   "cell_type": "code",
   "execution_count": null,
   "metadata": {
    "collapsed": true
   },
   "outputs": [],
   "source": [
    "lines = cw.hlines + cw.vlines\n",
    "\n",
    "# A word is used only once\n",
    "def get_neq(hlength, vlength): # classer les mots par taille\n",
    "        NEQ = {(word, other_word) for word in words for other_word in words if (len(word)==hlength and len(word)==len(other_word) and word!=other_word)}\n",
    "for line in lines:\n",
    "    for other_line in lines:\n",
    "        if line!=other_line:\n",
    "            if line.length()==other_line.length():\n",
    "                NEQ = get_neq(line.length(), other_line.length())\n",
    "                if NEQ:\n",
    "                    P.addConstraint(str(line), str(other_line), NEQ)"
   ]
  },
  {
   "cell_type": "code",
   "execution_count": null,
   "metadata": {
    "collapsed": true
   },
   "outputs": [],
   "source": [
    "sol = P.solve()\n",
    "print(sol)"
   ]
  },
  {
   "cell_type": "code",
   "execution_count": null,
   "metadata": {
    "collapsed": true
   },
   "outputs": [],
   "source": [
    "print(datetime.datetime.now())"
   ]
  },
  {
   "cell_type": "code",
   "execution_count": null,
   "metadata": {
    "collapsed": true
   },
   "outputs": [],
   "source": []
  }
 ],
 "metadata": {
  "kernelspec": {
   "display_name": "Python 3",
   "language": "python",
   "name": "python3"
  },
  "language_info": {
   "codemirror_mode": {
    "name": "ipython",
    "version": 3
   },
   "file_extension": ".py",
   "mimetype": "text/x-python",
   "name": "python",
   "nbconvert_exporter": "python",
   "pygments_lexer": "ipython3",
   "version": "3.6.3"
  }
 },
 "nbformat": 4,
 "nbformat_minor": 2
}
