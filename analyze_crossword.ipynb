{
 "cells": [
  {
   "cell_type": "code",
   "execution_count": 11,
   "metadata": {
    "collapsed": true
   },
   "outputs": [],
   "source": [
    "import constraint_programming\n",
    "import re\n",
    "import math\n",
    "\n",
    "WORDS = \"../words1.txt\"\n",
    "CROSSWORD = \"../crossword1.1.txt\""
   ]
  },
  {
   "cell_type": "code",
   "execution_count": 12,
   "metadata": {},
   "outputs": [
    {
     "name": "stdout",
     "output_type": "stream",
     "text": [
      "['to', 'at', 'tea', 'eat']\n"
     ]
    }
   ],
   "source": [
    "def read_words(path):\n",
    "    f = open(path, \"r\")\n",
    "    lines = f.readlines()\n",
    "    return [line.strip() for line in lines]\n",
    "\n",
    "words = read_words(WORDS)\n",
    "print(words)"
   ]
  },
  {
   "cell_type": "code",
   "execution_count": 13,
   "metadata": {},
   "outputs": [
    {
     "name": "stdout",
     "output_type": "stream",
     "text": [
      "{'horizontal': [((1, 0), (3, 0))], 'vertical': [((2, 0), (2, 3))]}\n"
     ]
    }
   ],
   "source": [
    "hashes_regex = re.compile(\"\\.+\")\n",
    "\n",
    "def parse_horizontally(path):\n",
    "    f = open(path, \"r\")\n",
    "    horizontal_dots = []\n",
    "    lines = f.readlines()\n",
    "    for i, line in enumerate(lines):\n",
    "        line = line.strip()\n",
    "        positions = hashes_regex.finditer(line)\n",
    "        for pos in positions:\n",
    "            dot_lines = ((pos.span()[0], i), (pos.span()[1]-1, i))\n",
    "            horizontal_dots.append(dot_lines)\n",
    "    return horizontal_dots\n",
    "\n",
    "def get_columns(path):\n",
    "    f = open(path, \"r\")\n",
    "    lines = f.readlines()\n",
    "    columns = ['' for i in range(len(lines))]\n",
    "    for line in lines:\n",
    "        for caract in enumerate(line):\n",
    "            if caract[1] != \"\\n\":\n",
    "                columns[caract[0]] += caract[1]\n",
    "    return columns\n",
    "    \n",
    "# NB : the y axis is reversed\n",
    "def parse_vertically(path):\n",
    "    vertical_dots = []\n",
    "    columns = get_columns(path)\n",
    "    for i, column in enumerate(columns):\n",
    "        positions = hashes_regex.finditer(column)\n",
    "        for pos in positions:\n",
    "            dot_columns = ((i, pos.span()[0]), (i, pos.span()[1]-1))\n",
    "            vertical_dots.append(dot_columns)\n",
    "    return vertical_dots\n",
    "\n",
    "def remove_single_dots(dots):\n",
    "    no_single_dots = []\n",
    "    for dot in dots:\n",
    "        d = math.fabs(dot[0][0]-dot[1][0]) + math.fabs(dot[0][1]-dot[1][1])\n",
    "        if d>1:\n",
    "            no_single_dots.append(dot)\n",
    "    return no_single_dots\n",
    "        \n",
    "        \n",
    "def read_crossword(path):\n",
    "    horizontal_dots = parse_horizontally(path)\n",
    "    horizontal_dots = remove_single_dots(horizontal_dots)\n",
    "    vertical_dots = parse_vertically(path)\n",
    "    vertical_dots = remove_single_dots(vertical_dots)\n",
    "    dots = {\"horizontal\": horizontal_dots, \"vertical\": vertical_dots}\n",
    "    return dots\n",
    "    \n",
    "lines = read_crossword(CROSSWORD)\n",
    "print(lines)"
   ]
  },
  {
   "cell_type": "code",
   "execution_count": 14,
   "metadata": {},
   "outputs": [
    {
     "name": "stdout",
     "output_type": "stream",
     "text": [
      "[{'position': (2, 0), 'which': (0, 0)}]\n"
     ]
    }
   ],
   "source": [
    "def find_intersection(h_line, v_line):\n",
    "    # Better: use the fact that it is necessary for the intersection to have v_line x position and h_line y position\n",
    "    a = h_line[0][0]<= v_line[0][0]\n",
    "    b = v_line[0][0]<=h_line[1][0]\n",
    "    c = v_line[0][1]<=h_line[0][1]\n",
    "    d = v_line[0][1]<= h_line[0][1]\n",
    "    e = h_line[0][1]<=v_line[1][1]\n",
    "    f = v_line[0][0]>=h_line[0][0]\n",
    "    if a and b and c and d and e and f:\n",
    "        return (v_line[0][0], h_line[0][1])\n",
    "    else:\n",
    "        return None\n",
    "\n",
    "def find_intersections(lines):\n",
    "    intersections = []\n",
    "    \"\"\"\n",
    "    [\n",
    "        {\n",
    "            \"which\": (\n",
    "                nieme ligne de dots[\"horizontal\"],\n",
    "                mieme colonne de dots[\"vertical\"]\n",
    "                ),\n",
    "            \"position\": (x, y)\n",
    "    ]\n",
    "    \"\"\"\n",
    "    for i, h_line in enumerate(lines[\"horizontal\"]):\n",
    "        for j, v_line in enumerate(lines[\"vertical\"]):\n",
    "            intersection = find_intersection(h_line, v_line)\n",
    "            if intersection != None:\n",
    "                intersections.append({\"position\":intersection, \"which\":(i, j)})\n",
    "    return intersections\n",
    "\n",
    "intersections = find_intersections(lines)\n",
    "print(intersections)"
   ]
  },
  {
   "cell_type": "code",
   "execution_count": null,
   "metadata": {
    "collapsed": true
   },
   "outputs": [],
   "source": []
  }
 ],
 "metadata": {
  "kernelspec": {
   "display_name": "Python 3",
   "language": "python",
   "name": "python3"
  },
  "language_info": {
   "codemirror_mode": {
    "name": "ipython",
    "version": 3
   },
   "file_extension": ".py",
   "mimetype": "text/x-python",
   "name": "python",
   "nbconvert_exporter": "python",
   "pygments_lexer": "ipython3",
   "version": "3.6.3"
  }
 },
 "nbformat": 4,
 "nbformat_minor": 2
}
