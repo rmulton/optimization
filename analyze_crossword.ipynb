{
 "cells": [
  {
   "cell_type": "code",
   "execution_count": 1,
   "metadata": {
    "collapsed": true
   },
   "outputs": [],
   "source": [
    "import re\n",
    "import math\n",
    "\n",
    "WORDS = \"../words1.txt\"\n",
    "CROSSWORD = \"../crossword1.1.txt\""
   ]
  },
  {
   "cell_type": "code",
   "execution_count": 2,
   "metadata": {},
   "outputs": [
    {
     "name": "stdout",
     "output_type": "stream",
     "text": [
      "['to', 'at', 'tea', 'eat']\n"
     ]
    }
   ],
   "source": [
    "def read_words(path):\n",
    "    f = open(path, \"r\")\n",
    "    lines = f.readlines()\n",
    "    return [line.strip() for line in lines]\n",
    "\n",
    "words = read_words(WORDS)\n",
    "print(words)"
   ]
  },
  {
   "cell_type": "code",
   "execution_count": 3,
   "metadata": {},
   "outputs": [
    {
     "name": "stdout",
     "output_type": "stream",
     "text": [
      "[<origin: (1, 0), end: (3, 0)>]\n",
      "[<origin: (2, 0), end: (2, 3)>]\n"
     ]
    }
   ],
   "source": [
    "hashes_regex = re.compile(\"\\.+\")\n",
    "\n",
    "class Line:\n",
    "    def __init__(self, origin, end):\n",
    "        self.origin = origin\n",
    "        self.end = end\n",
    "    def __repr__(self):\n",
    "        return \"<origin: {}, end: {}>\".format(str(self.origin), str(self.end))\n",
    "    def length(self):\n",
    "        return max(math.fabs(self.origin[0] - self.end[0]), math.fabs(self.origin[1] - self.end[1]))\n",
    "    def get_type(self):\n",
    "        if self.is_vertical():\n",
    "            return\n",
    "    def is_vertical(self):\n",
    "        return self.origin[0]==self.end[0] and self.origin[1]!=self.origin[1]\n",
    "    def is_al(self):\n",
    "        return self.origin[1]==self.end[1] and self.origin[0]!=self.origin[0]\n",
    "    \n",
    "\n",
    "def parse_horizontally(path):\n",
    "    f = open(path, \"r\")\n",
    "    horizontal_dots = []\n",
    "    lines = f.readlines()\n",
    "    for i, line in enumerate(lines):\n",
    "        line = line.strip()\n",
    "        positions = hashes_regex.finditer(line)\n",
    "        for pos in positions:\n",
    "            dot_line = Line((pos.span()[0], i), (pos.span()[1]-1, i))\n",
    "            if dot_line.length()>1:\n",
    "                horizontal_dots.append(dot_line)\n",
    "    return horizontal_dots\n",
    "\n",
    "def get_columns(path):\n",
    "    f = open(path, \"r\")\n",
    "    lines = f.readlines()\n",
    "    columns = ['' for i in range(len(lines))]\n",
    "    for line in lines:\n",
    "        for caract in enumerate(line):\n",
    "            if caract[1] != \"\\n\":\n",
    "                columns[caract[0]] += caract[1]\n",
    "    return columns\n",
    "    \n",
    "# NB : the y axis is reversed\n",
    "def parse_vertically(path):\n",
    "    vertical_dots = []\n",
    "    columns = get_columns(path)\n",
    "    for i, column in enumerate(columns):\n",
    "        positions = hashes_regex.finditer(column)\n",
    "        for pos in positions:\n",
    "            dot_column = Line((i, pos.span()[0]), (i, pos.span()[1]-1))\n",
    "            if dot_column.length()>1:\n",
    "                vertical_dots.append(dot_column)\n",
    "    return vertical_dots\n",
    "\n",
    "def read_crossword(path):\n",
    "    # Horizontal lines\n",
    "    horizontal_lines = parse_horizontally(path)\n",
    "    # Vertical lines\n",
    "    vertical_lines = parse_vertically(path)\n",
    "    return horizontal_lines, vertical_lines\n",
    "    \n",
    "hlines, vlines = read_crossword(CROSSWORD)\n",
    "print(hlines)\n",
    "print(vlines)"
   ]
  },
  {
   "cell_type": "code",
   "execution_count": 4,
   "metadata": {},
   "outputs": [
    {
     "name": "stdout",
     "output_type": "stream",
     "text": [
      "[{'position': (2, 0), 'which': (0, 0)}]\n"
     ]
    }
   ],
   "source": [
    "def find_intersection(h_line, v_line):\n",
    "    # Better: use the fact that it is necessary for the intersection to have v_line x position and h_line y position\n",
    "    a = h_line.origin[0]<= v_line.origin[0]\n",
    "    b = v_line.origin[0]<=h_line.end[0]\n",
    "    c = v_line.origin[1]<=h_line.origin[1]\n",
    "    d = v_line.origin[1]<= h_line.origin[1]\n",
    "    e = h_line.origin[1]<=v_line.end[1]\n",
    "    f = v_line.origin[0]>=h_line.origin[0]\n",
    "    if a and b and c and d and e and f:\n",
    "        return (v_line.origin[0], h_line.origin[1])\n",
    "    else:\n",
    "        return None\n",
    "\n",
    "def find_intersections(hlines, vlines):\n",
    "    intersections = []\n",
    "    \"\"\"\n",
    "    [\n",
    "        {\n",
    "            \"which\": (\n",
    "                nieme ligne de dots[\"horizontal\"],\n",
    "                mieme colonne de dots[\"vertical\"]\n",
    "                ),\n",
    "            \"position\": (x, y)\n",
    "    ]\n",
    "    \"\"\"\n",
    "    for i, h_line in enumerate(hlines):\n",
    "        for j, v_line in enumerate(vlines):\n",
    "            intersection = find_intersection(h_line, v_line)\n",
    "            if intersection != None:\n",
    "                intersections.append({\"position\":intersection, \"which\":(i, j)})\n",
    "    return intersections\n",
    "\n",
    "intersections = find_intersections(hlines, vlines)\n",
    "print(intersections)"
   ]
  },
  {
   "cell_type": "code",
   "execution_count": 5,
   "metadata": {},
   "outputs": [
    {
     "name": "stdout",
     "output_type": "stream",
     "text": [
      "<horizontal lines: [<origin: (1, 0), end: (3, 0)>], vertical lines: [<origin: (2, 0), end: (2, 3)>], intersections: [{'position': (2, 0), 'which': (0, 0)}]>\n"
     ]
    }
   ],
   "source": [
    "class Crossword:\n",
    "    def __init__(self, path):\n",
    "        self.path = path\n",
    "        self.find_lines()\n",
    "        self.find_intersections()\n",
    "    def find_lines(self):\n",
    "        self.hlines, self.vlines = read_crossword(self.path)\n",
    "    def find_intersections(self):\n",
    "        self.intersections = find_intersections(self.hlines, self.vlines)\n",
    "    def __repr__(self):\n",
    "        return \"<horizontal lines: {}, vertical lines: {}, intersections: {}>\".format(self.hlines, self.vlines, self.intersections)\n",
    "        \n",
    "cw = Crossword(CROSSWORD)\n",
    "print(cw)"
   ]
  },
  {
   "cell_type": "code",
   "execution_count": 5,
   "metadata": {
    "collapsed": true
   },
   "outputs": [],
   "source": [
    "import constraint_programming"
   ]
  },
  {
   "cell_type": "code",
   "execution_count": null,
   "metadata": {
    "collapsed": true
   },
   "outputs": [],
   "source": []
  }
 ],
 "metadata": {
  "kernelspec": {
   "display_name": "Python 3",
   "language": "python",
   "name": "python3"
  },
  "language_info": {
   "codemirror_mode": {
    "name": "ipython",
    "version": 3
   },
   "file_extension": ".py",
   "mimetype": "text/x-python",
   "name": "python",
   "nbconvert_exporter": "python",
   "pygments_lexer": "ipython3",
   "version": "3.6.3"
  }
 },
 "nbformat": 4,
 "nbformat_minor": 2
}
