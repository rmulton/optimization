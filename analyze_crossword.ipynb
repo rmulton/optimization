{
 "cells": [
  {
   "cell_type": "code",
   "execution_count": 1,
   "metadata": {
    "collapsed": true
   },
   "outputs": [],
   "source": [
    "import re\n",
    "import math\n",
    "\n",
    "WORDS = \"../words1.txt\"\n",
    "CROSSWORD = \"../crossword1.txt\""
   ]
  },
  {
   "cell_type": "code",
   "execution_count": 2,
   "metadata": {},
   "outputs": [
    {
     "name": "stdout",
     "output_type": "stream",
     "text": [
      "['to', 'at', 'tea', 'eat']\n"
     ]
    }
   ],
   "source": [
    "def read_words(path):\n",
    "    f = open(path, \"r\")\n",
    "    lines = f.readlines()\n",
    "    return [line.strip() for line in lines]\n",
    "\n",
    "words = read_words(WORDS)\n",
    "print(words)"
   ]
  },
  {
   "cell_type": "code",
   "execution_count": 3,
   "metadata": {},
   "outputs": [
    {
     "name": "stdout",
     "output_type": "stream",
     "text": [
      "[<origin: (1, 2), end: (3, 2)>]\n",
      "[<origin: (2, 1), end: (2, 3)>]\n"
     ]
    }
   ],
   "source": [
    "hashes_regex = re.compile(\"\\.+\")\n",
    "\n",
    "class Line:\n",
    "    def __init__(self, origin, end):\n",
    "        self.origin = origin\n",
    "        self.end = end\n",
    "    def __repr__(self):\n",
    "        return \"<origin: {}, end: {}>\".format(str(self.origin), str(self.end))\n",
    "    def length(self):\n",
    "        return max(math.fabs(self.origin[0] - self.end[0]), math.fabs(self.origin[1] - self.end[1]))+1\n",
    "    def get_type(self):\n",
    "        if self.is_vertical():\n",
    "            return \"vertical\"\n",
    "        if self.is_horizontal():\n",
    "            return \"horizontal\"\n",
    "    def is_vertical(self):\n",
    "        return self.origin[0]==self.end[0] and self.origin[1]!=self.origin[1]\n",
    "    def is_horizontal(self):\n",
    "        return self.origin[1]==self.end[1] and self.origin[0]!=self.origin[0]\n",
    "    \n",
    "\n",
    "def parse_horizontally(path):\n",
    "    f = open(path, \"r\")\n",
    "    horizontal_dots = []\n",
    "    lines = f.readlines()\n",
    "    for i, line in enumerate(lines):\n",
    "        line = line.strip()\n",
    "        positions = hashes_regex.finditer(line)\n",
    "        for pos in positions:\n",
    "            dot_line = Line((pos.span()[0], i), (pos.span()[1]-1, i))\n",
    "            if dot_line.length()>1:\n",
    "                horizontal_dots.append(dot_line)\n",
    "    return horizontal_dots\n",
    "\n",
    "def get_columns(path):\n",
    "    f = open(path, \"r\")\n",
    "    lines = f.readlines()\n",
    "    columns = ['' for i in range(len(lines))]\n",
    "    for line in lines:\n",
    "        for caract in enumerate(line):\n",
    "            if caract[1] != \"\\n\":\n",
    "                columns[caract[0]] += caract[1]\n",
    "    return columns\n",
    "    \n",
    "# NB : the y axis is reversed\n",
    "def parse_vertically(path):\n",
    "    vertical_dots = []\n",
    "    columns = get_columns(path)\n",
    "    for i, column in enumerate(columns):\n",
    "        positions = hashes_regex.finditer(column)\n",
    "        for pos in positions:\n",
    "            dot_column = Line((i, pos.span()[0]), (i, pos.span()[1]-1))\n",
    "            if dot_column.length()>1:\n",
    "                vertical_dots.append(dot_column)\n",
    "    return vertical_dots\n",
    "\n",
    "def read_crossword(path):\n",
    "    # Horizontal lines\n",
    "    horizontal_lines = parse_horizontally(path)\n",
    "    # Vertical lines\n",
    "    vertical_lines = parse_vertically(path)\n",
    "    return horizontal_lines, vertical_lines\n",
    "    \n",
    "hlines, vlines = read_crossword(CROSSWORD)\n",
    "print(hlines)\n",
    "print(vlines)"
   ]
  },
  {
   "cell_type": "code",
   "execution_count": 4,
   "metadata": {
    "scrolled": true
   },
   "outputs": [
    {
     "name": "stdout",
     "output_type": "stream",
     "text": [
      "[{'position_in_crossword': (2, 2), 'position_in_lines': (1, 1), 'which': (0, 0)}]\n"
     ]
    }
   ],
   "source": [
    "def find_intersection(h_line, v_line):\n",
    "    # Better: use the fact that it is necessary for the intersection to have v_line x position and h_line y position\n",
    "    a = h_line.origin[0]<= v_line.origin[0]\n",
    "    b = v_line.origin[0]<=h_line.end[0]\n",
    "    c = v_line.origin[1]<=h_line.origin[1]\n",
    "    d = v_line.origin[1]<= h_line.origin[1]\n",
    "    e = h_line.origin[1]<=v_line.end[1]\n",
    "    f = v_line.origin[0]>=h_line.origin[0]\n",
    "    if a and b and c and d and e and f:\n",
    "        return (v_line.origin[0], h_line.origin[1])\n",
    "    else:\n",
    "        return None\n",
    "\n",
    "def find_intersections(hlines, vlines):\n",
    "    intersections = []\n",
    "    \"\"\"\n",
    "    [\n",
    "        {\n",
    "            \"which\": (\n",
    "                nieme ligne de dots hlines,\n",
    "                mieme colonne de dots vlines\n",
    "                ),\n",
    "            \"position\": (x, y)\n",
    "    ]\n",
    "    \"\"\"\n",
    "    for i, h_line in enumerate(hlines):\n",
    "        for j, v_line in enumerate(vlines):\n",
    "            intersection = find_intersection(h_line, v_line)\n",
    "            u = intersection[0] - h_line.origin[0]\n",
    "            v = intersection[1] - v_line.origin[1]\n",
    "            if intersection != None:\n",
    "                intersections.append({\"position_in_crossword\":intersection, \"position_in_lines\":(u, v), \"which\":(i, j)})\n",
    "    return intersections\n",
    "\n",
    "intersections = find_intersections(hlines, vlines)\n",
    "print(intersections)"
   ]
  },
  {
   "cell_type": "code",
   "execution_count": 5,
   "metadata": {},
   "outputs": [
    {
     "name": "stdout",
     "output_type": "stream",
     "text": [
      "horizontal lines: [<origin: (1, 2), end: (3, 2)>]\n",
      "vertical lines: [<origin: (2, 1), end: (2, 3)>]\n",
      "intersections: [{'position_in_crossword': (2, 2), 'position_in_lines': (1, 1), 'which': (0, 0)}]>\n"
     ]
    }
   ],
   "source": [
    "class Crossword:\n",
    "    def __init__(self, path):\n",
    "        self.path = path\n",
    "        self.find_lines()\n",
    "        self.find_intersections()\n",
    "    def find_lines(self):\n",
    "        self.hlines, self.vlines = read_crossword(self.path)\n",
    "    def find_intersections(self):\n",
    "        self.intersections = find_intersections(self.hlines, self.vlines)\n",
    "    def __repr__(self):\n",
    "        return \"horizontal lines: {}\\nvertical lines: {}\\nintersections: {}>\".format(self.hlines, self.vlines, self.intersections)\n",
    "        \n",
    "cw = Crossword(CROSSWORD)\n",
    "print(cw)"
   ]
  },
  {
   "cell_type": "code",
   "execution_count": 1,
   "metadata": {
    "collapsed": true
   },
   "outputs": [],
   "source": [
    "from constraint_programming import constraint_programming"
   ]
  },
  {
   "cell_type": "code",
   "execution_count": 2,
   "metadata": {},
   "outputs": [
    {
     "ename": "NameError",
     "evalue": "name 'WORDS' is not defined",
     "output_type": "error",
     "traceback": [
      "\u001b[1;31m---------------------------------------------------------------------------\u001b[0m",
      "\u001b[1;31mNameError\u001b[0m                                 Traceback (most recent call last)",
      "\u001b[1;32m<ipython-input-2-5cffc988dd8b>\u001b[0m in \u001b[0;36m<module>\u001b[1;34m()\u001b[0m\n\u001b[0;32m      6\u001b[0m         \u001b[1;32mreturn\u001b[0m \u001b[1;34m\"Words: {}\\nCrossword:\\n{}\"\u001b[0m\u001b[1;33m.\u001b[0m\u001b[0mformat\u001b[0m\u001b[1;33m(\u001b[0m\u001b[0mself\u001b[0m\u001b[1;33m.\u001b[0m\u001b[0mwords\u001b[0m\u001b[1;33m,\u001b[0m \u001b[0mself\u001b[0m\u001b[1;33m.\u001b[0m\u001b[0mcrossword\u001b[0m\u001b[1;33m)\u001b[0m\u001b[1;33m\u001b[0m\u001b[0m\n\u001b[0;32m      7\u001b[0m \u001b[1;33m\u001b[0m\u001b[0m\n\u001b[1;32m----> 8\u001b[1;33m \u001b[0mpb\u001b[0m \u001b[1;33m=\u001b[0m \u001b[0mCrosswordProblem\u001b[0m\u001b[1;33m(\u001b[0m\u001b[0mWORDS\u001b[0m\u001b[1;33m,\u001b[0m \u001b[0mCROSSWORD\u001b[0m\u001b[1;33m)\u001b[0m\u001b[1;33m\u001b[0m\u001b[0m\n\u001b[0m\u001b[0;32m      9\u001b[0m \u001b[0mpb\u001b[0m\u001b[1;33m\u001b[0m\u001b[0m\n",
      "\u001b[1;31mNameError\u001b[0m: name 'WORDS' is not defined"
     ]
    }
   ],
   "source": [
    "class CrosswordProblem:\n",
    "    def __init__(self, wordspath, crosswordspath):\n",
    "        self.words = read_words(wordspath)\n",
    "        self.crossword = Crossword(crosswordspath)\n",
    "    def __repr__(self):\n",
    "        return \"Words: {}\\nCrossword:\\n{}\".format(self.words, self.crossword)\n",
    "\n",
    "pb = CrosswordProblem(WORDS, CROSSWORD)\n",
    "pb"
   ]
  },
  {
   "cell_type": "code",
   "execution_count": 3,
   "metadata": {},
   "outputs": [
    {
     "ename": "NameError",
     "evalue": "name 'cw' is not defined",
     "output_type": "error",
     "traceback": [
      "\u001b[1;31m---------------------------------------------------------------------------\u001b[0m",
      "\u001b[1;31mNameError\u001b[0m                                 Traceback (most recent call last)",
      "\u001b[1;32m<ipython-input-3-0ec5809e2bbe>\u001b[0m in \u001b[0;36m<module>\u001b[1;34m()\u001b[0m\n\u001b[0;32m      1\u001b[0m \u001b[1;31m# A line and its word have the same length\u001b[0m\u001b[1;33m\u001b[0m\u001b[1;33m\u001b[0m\u001b[0m\n\u001b[1;32m----> 2\u001b[1;33m \u001b[0mvar\u001b[0m \u001b[1;33m=\u001b[0m \u001b[1;33m{\u001b[0m\u001b[0mline\u001b[0m\u001b[1;33m:\u001b[0m \u001b[0mset\u001b[0m\u001b[1;33m(\u001b[0m\u001b[1;33m[\u001b[0m\u001b[0mword\u001b[0m \u001b[1;32mfor\u001b[0m \u001b[0mword\u001b[0m \u001b[1;32min\u001b[0m \u001b[0mwords\u001b[0m \u001b[1;32mif\u001b[0m \u001b[0mlen\u001b[0m\u001b[1;33m(\u001b[0m\u001b[0mword\u001b[0m\u001b[1;33m)\u001b[0m\u001b[1;33m==\u001b[0m\u001b[0mline\u001b[0m\u001b[1;33m.\u001b[0m\u001b[0mlength\u001b[0m\u001b[1;33m(\u001b[0m\u001b[1;33m)\u001b[0m\u001b[1;33m]\u001b[0m\u001b[1;33m)\u001b[0m \u001b[1;32mfor\u001b[0m \u001b[0mline\u001b[0m \u001b[1;32min\u001b[0m \u001b[0mcw\u001b[0m\u001b[1;33m.\u001b[0m\u001b[0mhlines\u001b[0m\u001b[1;33m+\u001b[0m\u001b[0mcw\u001b[0m\u001b[1;33m.\u001b[0m\u001b[0mvlines\u001b[0m\u001b[1;33m}\u001b[0m\u001b[1;33m\u001b[0m\u001b[0m\n\u001b[0m\u001b[0;32m      3\u001b[0m \u001b[0mprint\u001b[0m\u001b[1;33m(\u001b[0m\u001b[0mvar\u001b[0m\u001b[1;33m)\u001b[0m\u001b[1;33m\u001b[0m\u001b[0m\n\u001b[0;32m      4\u001b[0m \u001b[0mP\u001b[0m \u001b[1;33m=\u001b[0m \u001b[0mconstraint_programming\u001b[0m\u001b[1;33m(\u001b[0m\u001b[0mvar\u001b[0m\u001b[1;33m)\u001b[0m\u001b[1;33m\u001b[0m\u001b[0m\n",
      "\u001b[1;31mNameError\u001b[0m: name 'cw' is not defined"
     ]
    }
   ],
   "source": [
    "# A line and its word have the same length\n",
    "var = {line: set([word for word in words if len(word)==line.length()]) for line in cw.hlines+cw.vlines}\n",
    "print(var)\n",
    "P = constraint_programming(var)\n"
   ]
  },
  {
   "cell_type": "code",
   "execution_count": 26,
   "metadata": {},
   "outputs": [
    {
     "name": "stdout",
     "output_type": "stream",
     "text": [
      "<origin: (1, 2), end: (3, 2)>\n",
      "{<origin: (1, 2), end: (3, 2)>: [(<origin: (2, 1), end: (2, 3)>, {('tea', 'at'), ('at', 'to'), ('eat', 'tea'), ('eat', 'at'), ('at', 'eat'), ('to', 'eat'), ('eat', 'to'), ('to', 'at'), ('at', 'tea'), ('to', 'tea'), ('tea', 'to'), ('tea', 'eat')}), (<origin: (2, 1), end: (2, 3)>, {('tea', 'at'), ('at', 'to'), ('eat', 'tea'), ('eat', 'at'), ('at', 'eat'), ('eat', 'to'), ('to', 'eat'), ('to', 'at'), ('at', 'tea'), ('tea', 'to'), ('to', 'tea'), ('tea', 'eat')}), (<origin: (2, 1), end: (2, 3)>, {('tea', 'at'), ('at', 'to'), ('eat', 'tea'), ('eat', 'at'), ('at', 'eat'), ('to', 'eat'), ('eat', 'to'), ('to', 'at'), ('at', 'tea'), ('to', 'tea'), ('tea', 'to'), ('tea', 'eat')}), (<origin: (2, 1), end: (2, 3)>, {('tea', 'at'), ('at', 'to'), ('eat', 'tea'), ('eat', 'at'), ('at', 'eat'), ('eat', 'to'), ('to', 'eat'), ('to', 'at'), ('at', 'tea'), ('tea', 'to'), ('to', 'tea'), ('tea', 'eat')}), (<origin: (2, 1), end: (2, 3)>, {('tea', 'at'), ('at', 'to'), ('eat', 'tea'), ('eat', 'at'), ('at', 'eat'), ('to', 'eat'), ('eat', 'to'), ('to', 'at'), ('at', 'tea'), ('to', 'tea'), ('tea', 'to'), ('tea', 'eat')}), (<origin: (2, 1), end: (2, 3)>, {('tea', 'at'), ('at', 'to'), ('eat', 'tea'), ('eat', 'at'), ('at', 'eat'), ('eat', 'to'), ('to', 'eat'), ('to', 'at'), ('at', 'tea'), ('tea', 'to'), ('to', 'tea'), ('tea', 'eat')}), (<origin: (2, 1), end: (2, 3)>, {('tea', 'at'), ('at', 'to'), ('eat', 'tea'), ('eat', 'at'), ('at', 'eat'), ('to', 'eat'), ('eat', 'to'), ('to', 'at'), ('at', 'tea'), ('to', 'tea'), ('tea', 'to'), ('tea', 'eat')}), (<origin: (2, 1), end: (2, 3)>, {('tea', 'at'), ('at', 'to'), ('eat', 'tea'), ('eat', 'at'), ('at', 'eat'), ('eat', 'to'), ('to', 'eat'), ('to', 'at'), ('at', 'tea'), ('tea', 'to'), ('to', 'tea'), ('tea', 'eat')})], <origin: (2, 1), end: (2, 3)>: [(<origin: (1, 2), end: (3, 2)>, {('tea', 'at'), ('at', 'to'), ('eat', 'tea'), ('eat', 'at'), ('at', 'eat'), ('eat', 'to'), ('to', 'eat'), ('to', 'at'), ('at', 'tea'), ('tea', 'to'), ('to', 'tea'), ('tea', 'eat')}), (<origin: (1, 2), end: (3, 2)>, {('tea', 'at'), ('at', 'to'), ('eat', 'tea'), ('eat', 'at'), ('at', 'eat'), ('to', 'eat'), ('eat', 'to'), ('to', 'at'), ('at', 'tea'), ('to', 'tea'), ('tea', 'to'), ('tea', 'eat')}), (<origin: (1, 2), end: (3, 2)>, {('tea', 'at'), ('at', 'to'), ('eat', 'tea'), ('eat', 'at'), ('at', 'eat'), ('eat', 'to'), ('to', 'eat'), ('to', 'at'), ('at', 'tea'), ('tea', 'to'), ('to', 'tea'), ('tea', 'eat')}), (<origin: (1, 2), end: (3, 2)>, {('tea', 'at'), ('at', 'to'), ('eat', 'tea'), ('eat', 'at'), ('at', 'eat'), ('to', 'eat'), ('eat', 'to'), ('to', 'at'), ('at', 'tea'), ('to', 'tea'), ('tea', 'to'), ('tea', 'eat')}), (<origin: (1, 2), end: (3, 2)>, {('tea', 'at'), ('at', 'to'), ('eat', 'tea'), ('eat', 'at'), ('at', 'eat'), ('eat', 'to'), ('to', 'eat'), ('to', 'at'), ('at', 'tea'), ('tea', 'to'), ('to', 'tea'), ('tea', 'eat')}), (<origin: (1, 2), end: (3, 2)>, {('tea', 'at'), ('at', 'to'), ('eat', 'tea'), ('eat', 'at'), ('at', 'eat'), ('to', 'eat'), ('eat', 'to'), ('to', 'at'), ('at', 'tea'), ('to', 'tea'), ('tea', 'to'), ('tea', 'eat')}), (<origin: (1, 2), end: (3, 2)>, {('tea', 'at'), ('at', 'to'), ('eat', 'tea'), ('eat', 'at'), ('at', 'eat'), ('eat', 'to'), ('to', 'eat'), ('to', 'at'), ('at', 'tea'), ('tea', 'to'), ('to', 'tea'), ('tea', 'eat')}), (<origin: (1, 2), end: (3, 2)>, {('tea', 'at'), ('at', 'to'), ('eat', 'tea'), ('eat', 'at'), ('at', 'eat'), ('to', 'eat'), ('eat', 'to'), ('to', 'at'), ('at', 'tea'), ('to', 'tea'), ('tea', 'to'), ('tea', 'eat')})]}\n",
      "<origin: (2, 1), end: (2, 3)>\n",
      "{<origin: (1, 2), end: (3, 2)>: [(<origin: (2, 1), end: (2, 3)>, {('tea', 'at'), ('at', 'to'), ('eat', 'tea'), ('eat', 'at'), ('at', 'eat'), ('to', 'eat'), ('eat', 'to'), ('to', 'at'), ('at', 'tea'), ('to', 'tea'), ('tea', 'to'), ('tea', 'eat')}), (<origin: (2, 1), end: (2, 3)>, {('tea', 'at'), ('at', 'to'), ('eat', 'tea'), ('eat', 'at'), ('at', 'eat'), ('eat', 'to'), ('to', 'eat'), ('to', 'at'), ('at', 'tea'), ('tea', 'to'), ('to', 'tea'), ('tea', 'eat')}), (<origin: (2, 1), end: (2, 3)>, {('tea', 'at'), ('at', 'to'), ('eat', 'tea'), ('eat', 'at'), ('at', 'eat'), ('to', 'eat'), ('eat', 'to'), ('to', 'at'), ('at', 'tea'), ('to', 'tea'), ('tea', 'to'), ('tea', 'eat')}), (<origin: (2, 1), end: (2, 3)>, {('tea', 'at'), ('at', 'to'), ('eat', 'tea'), ('eat', 'at'), ('at', 'eat'), ('eat', 'to'), ('to', 'eat'), ('to', 'at'), ('at', 'tea'), ('tea', 'to'), ('to', 'tea'), ('tea', 'eat')}), (<origin: (2, 1), end: (2, 3)>, {('tea', 'at'), ('at', 'to'), ('eat', 'tea'), ('eat', 'at'), ('at', 'eat'), ('to', 'eat'), ('eat', 'to'), ('to', 'at'), ('at', 'tea'), ('to', 'tea'), ('tea', 'to'), ('tea', 'eat')}), (<origin: (2, 1), end: (2, 3)>, {('tea', 'at'), ('at', 'to'), ('eat', 'tea'), ('eat', 'at'), ('at', 'eat'), ('eat', 'to'), ('to', 'eat'), ('to', 'at'), ('at', 'tea'), ('tea', 'to'), ('to', 'tea'), ('tea', 'eat')}), (<origin: (2, 1), end: (2, 3)>, {('tea', 'at'), ('at', 'to'), ('eat', 'tea'), ('eat', 'at'), ('at', 'eat'), ('to', 'eat'), ('eat', 'to'), ('to', 'at'), ('at', 'tea'), ('to', 'tea'), ('tea', 'to'), ('tea', 'eat')}), (<origin: (2, 1), end: (2, 3)>, {('tea', 'at'), ('at', 'to'), ('eat', 'tea'), ('eat', 'at'), ('at', 'eat'), ('eat', 'to'), ('to', 'eat'), ('to', 'at'), ('at', 'tea'), ('tea', 'to'), ('to', 'tea'), ('tea', 'eat')}), (<origin: (2, 1), end: (2, 3)>, {('tea', 'at'), ('at', 'to'), ('eat', 'tea'), ('eat', 'at'), ('at', 'eat'), ('to', 'eat'), ('eat', 'to'), ('to', 'at'), ('at', 'tea'), ('to', 'tea'), ('tea', 'to'), ('tea', 'eat')})], <origin: (2, 1), end: (2, 3)>: [(<origin: (1, 2), end: (3, 2)>, {('tea', 'at'), ('at', 'to'), ('eat', 'tea'), ('eat', 'at'), ('at', 'eat'), ('eat', 'to'), ('to', 'eat'), ('to', 'at'), ('at', 'tea'), ('tea', 'to'), ('to', 'tea'), ('tea', 'eat')}), (<origin: (1, 2), end: (3, 2)>, {('tea', 'at'), ('at', 'to'), ('eat', 'tea'), ('eat', 'at'), ('at', 'eat'), ('to', 'eat'), ('eat', 'to'), ('to', 'at'), ('at', 'tea'), ('to', 'tea'), ('tea', 'to'), ('tea', 'eat')}), (<origin: (1, 2), end: (3, 2)>, {('tea', 'at'), ('at', 'to'), ('eat', 'tea'), ('eat', 'at'), ('at', 'eat'), ('eat', 'to'), ('to', 'eat'), ('to', 'at'), ('at', 'tea'), ('tea', 'to'), ('to', 'tea'), ('tea', 'eat')}), (<origin: (1, 2), end: (3, 2)>, {('tea', 'at'), ('at', 'to'), ('eat', 'tea'), ('eat', 'at'), ('at', 'eat'), ('to', 'eat'), ('eat', 'to'), ('to', 'at'), ('at', 'tea'), ('to', 'tea'), ('tea', 'to'), ('tea', 'eat')}), (<origin: (1, 2), end: (3, 2)>, {('tea', 'at'), ('at', 'to'), ('eat', 'tea'), ('eat', 'at'), ('at', 'eat'), ('eat', 'to'), ('to', 'eat'), ('to', 'at'), ('at', 'tea'), ('tea', 'to'), ('to', 'tea'), ('tea', 'eat')}), (<origin: (1, 2), end: (3, 2)>, {('tea', 'at'), ('at', 'to'), ('eat', 'tea'), ('eat', 'at'), ('at', 'eat'), ('to', 'eat'), ('eat', 'to'), ('to', 'at'), ('at', 'tea'), ('to', 'tea'), ('tea', 'to'), ('tea', 'eat')}), (<origin: (1, 2), end: (3, 2)>, {('tea', 'at'), ('at', 'to'), ('eat', 'tea'), ('eat', 'at'), ('at', 'eat'), ('eat', 'to'), ('to', 'eat'), ('to', 'at'), ('at', 'tea'), ('tea', 'to'), ('to', 'tea'), ('tea', 'eat')}), (<origin: (1, 2), end: (3, 2)>, {('tea', 'at'), ('at', 'to'), ('eat', 'tea'), ('eat', 'at'), ('at', 'eat'), ('to', 'eat'), ('eat', 'to'), ('to', 'at'), ('at', 'tea'), ('to', 'tea'), ('tea', 'to'), ('tea', 'eat')}), (<origin: (1, 2), end: (3, 2)>, {('tea', 'at'), ('at', 'to'), ('eat', 'tea'), ('eat', 'at'), ('at', 'eat'), ('eat', 'to'), ('to', 'eat'), ('to', 'at'), ('at', 'tea'), ('tea', 'to'), ('to', 'tea'), ('tea', 'eat')})]}\n",
      "{('tea', 'at'), ('at', 'to'), ('eat', 'tea'), ('eat', 'at'), ('at', 'eat'), ('to', 'eat'), ('eat', 'to'), ('to', 'at'), ('at', 'tea'), ('to', 'tea'), ('tea', 'to'), ('tea', 'eat')}\n",
      "{('to', 'at'), ('at', 'eat'), ('eat', 'tea'), ('tea', 'at')}\n",
      "[{'position_in_crossword': (2, 2), 'position_in_lines': (1, 1), 'which': (0, 0)}]\n",
      "<origin: (1, 2), end: (3, 2)>\n",
      "{<origin: (1, 2), end: (3, 2)>: [(<origin: (2, 1), end: (2, 3)>, {('tea', 'at'), ('at', 'to'), ('eat', 'tea'), ('eat', 'at'), ('at', 'eat'), ('to', 'eat'), ('eat', 'to'), ('to', 'at'), ('at', 'tea'), ('to', 'tea'), ('tea', 'to'), ('tea', 'eat')}), (<origin: (2, 1), end: (2, 3)>, {('tea', 'at'), ('at', 'to'), ('eat', 'tea'), ('eat', 'at'), ('at', 'eat'), ('eat', 'to'), ('to', 'eat'), ('to', 'at'), ('at', 'tea'), ('tea', 'to'), ('to', 'tea'), ('tea', 'eat')}), (<origin: (2, 1), end: (2, 3)>, {('tea', 'at'), ('at', 'to'), ('eat', 'tea'), ('eat', 'at'), ('at', 'eat'), ('to', 'eat'), ('eat', 'to'), ('to', 'at'), ('at', 'tea'), ('to', 'tea'), ('tea', 'to'), ('tea', 'eat')}), (<origin: (2, 1), end: (2, 3)>, {('tea', 'at'), ('at', 'to'), ('eat', 'tea'), ('eat', 'at'), ('at', 'eat'), ('eat', 'to'), ('to', 'eat'), ('to', 'at'), ('at', 'tea'), ('tea', 'to'), ('to', 'tea'), ('tea', 'eat')}), (<origin: (2, 1), end: (2, 3)>, {('tea', 'at'), ('at', 'to'), ('eat', 'tea'), ('eat', 'at'), ('at', 'eat'), ('to', 'eat'), ('eat', 'to'), ('to', 'at'), ('at', 'tea'), ('to', 'tea'), ('tea', 'to'), ('tea', 'eat')}), (<origin: (2, 1), end: (2, 3)>, {('tea', 'at'), ('at', 'to'), ('eat', 'tea'), ('eat', 'at'), ('at', 'eat'), ('eat', 'to'), ('to', 'eat'), ('to', 'at'), ('at', 'tea'), ('tea', 'to'), ('to', 'tea'), ('tea', 'eat')}), (<origin: (2, 1), end: (2, 3)>, {('tea', 'at'), ('at', 'to'), ('eat', 'tea'), ('eat', 'at'), ('at', 'eat'), ('to', 'eat'), ('eat', 'to'), ('to', 'at'), ('at', 'tea'), ('to', 'tea'), ('tea', 'to'), ('tea', 'eat')}), (<origin: (2, 1), end: (2, 3)>, {('tea', 'at'), ('at', 'to'), ('eat', 'tea'), ('eat', 'at'), ('at', 'eat'), ('eat', 'to'), ('to', 'eat'), ('to', 'at'), ('at', 'tea'), ('tea', 'to'), ('to', 'tea'), ('tea', 'eat')}), (<origin: (2, 1), end: (2, 3)>, {('tea', 'at'), ('at', 'to'), ('eat', 'tea'), ('eat', 'at'), ('at', 'eat'), ('to', 'eat'), ('eat', 'to'), ('to', 'at'), ('at', 'tea'), ('to', 'tea'), ('tea', 'to'), ('tea', 'eat')}), (<origin: (2, 1), end: (2, 3)>, {('tea', 'at'), ('at', 'to'), ('eat', 'tea'), ('eat', 'at'), ('at', 'eat'), ('eat', 'to'), ('to', 'eat'), ('to', 'at'), ('at', 'tea'), ('tea', 'to'), ('to', 'tea'), ('tea', 'eat')})], <origin: (2, 1), end: (2, 3)>: [(<origin: (1, 2), end: (3, 2)>, {('tea', 'at'), ('at', 'to'), ('eat', 'tea'), ('eat', 'at'), ('at', 'eat'), ('eat', 'to'), ('to', 'eat'), ('to', 'at'), ('at', 'tea'), ('tea', 'to'), ('to', 'tea'), ('tea', 'eat')}), (<origin: (1, 2), end: (3, 2)>, {('tea', 'at'), ('at', 'to'), ('eat', 'tea'), ('eat', 'at'), ('at', 'eat'), ('to', 'eat'), ('eat', 'to'), ('to', 'at'), ('at', 'tea'), ('to', 'tea'), ('tea', 'to'), ('tea', 'eat')}), (<origin: (1, 2), end: (3, 2)>, {('tea', 'at'), ('at', 'to'), ('eat', 'tea'), ('eat', 'at'), ('at', 'eat'), ('eat', 'to'), ('to', 'eat'), ('to', 'at'), ('at', 'tea'), ('tea', 'to'), ('to', 'tea'), ('tea', 'eat')}), (<origin: (1, 2), end: (3, 2)>, {('tea', 'at'), ('at', 'to'), ('eat', 'tea'), ('eat', 'at'), ('at', 'eat'), ('to', 'eat'), ('eat', 'to'), ('to', 'at'), ('at', 'tea'), ('to', 'tea'), ('tea', 'to'), ('tea', 'eat')}), (<origin: (1, 2), end: (3, 2)>, {('tea', 'at'), ('at', 'to'), ('eat', 'tea'), ('eat', 'at'), ('at', 'eat'), ('eat', 'to'), ('to', 'eat'), ('to', 'at'), ('at', 'tea'), ('tea', 'to'), ('to', 'tea'), ('tea', 'eat')}), (<origin: (1, 2), end: (3, 2)>, {('tea', 'at'), ('at', 'to'), ('eat', 'tea'), ('eat', 'at'), ('at', 'eat'), ('to', 'eat'), ('eat', 'to'), ('to', 'at'), ('at', 'tea'), ('to', 'tea'), ('tea', 'to'), ('tea', 'eat')}), (<origin: (1, 2), end: (3, 2)>, {('tea', 'at'), ('at', 'to'), ('eat', 'tea'), ('eat', 'at'), ('at', 'eat'), ('eat', 'to'), ('to', 'eat'), ('to', 'at'), ('at', 'tea'), ('tea', 'to'), ('to', 'tea'), ('tea', 'eat')}), (<origin: (1, 2), end: (3, 2)>, {('tea', 'at'), ('at', 'to'), ('eat', 'tea'), ('eat', 'at'), ('at', 'eat'), ('to', 'eat'), ('eat', 'to'), ('to', 'at'), ('at', 'tea'), ('to', 'tea'), ('tea', 'to'), ('tea', 'eat')}), (<origin: (1, 2), end: (3, 2)>, {('tea', 'at'), ('at', 'to'), ('eat', 'tea'), ('eat', 'at'), ('at', 'eat'), ('eat', 'to'), ('to', 'eat'), ('to', 'at'), ('at', 'tea'), ('tea', 'to'), ('to', 'tea'), ('tea', 'eat')}), (<origin: (1, 2), end: (3, 2)>, {('tea', 'at'), ('at', 'to'), ('eat', 'tea'), ('eat', 'at'), ('at', 'eat'), ('to', 'eat'), ('eat', 'to'), ('to', 'at'), ('at', 'tea'), ('to', 'tea'), ('tea', 'to'), ('tea', 'eat')})]}\n"
     ]
    },
    {
     "ename": "KeyError",
     "evalue": "<origin: (1, 2), end: (3, 2)>",
     "output_type": "error",
     "traceback": [
      "\u001b[1;31m---------------------------------------------------------------------------\u001b[0m",
      "\u001b[1;31mKeyError\u001b[0m                                  Traceback (most recent call last)",
      "\u001b[1;32m<ipython-input-26-e91a22c7d4f1>\u001b[0m in \u001b[0;36m<module>\u001b[1;34m()\u001b[0m\n\u001b[0;32m     19\u001b[0m     \u001b[0mvline\u001b[0m \u001b[1;33m=\u001b[0m \u001b[0mvlines\u001b[0m\u001b[1;33m[\u001b[0m\u001b[0mwhich_v\u001b[0m\u001b[1;33m]\u001b[0m\u001b[1;33m\u001b[0m\u001b[0m\n\u001b[0;32m     20\u001b[0m     \u001b[0mSAME_LETTER_INTERSECT\u001b[0m \u001b[1;33m=\u001b[0m \u001b[0mget_intersection_possibilities\u001b[0m\u001b[1;33m(\u001b[0m\u001b[1;33m*\u001b[0m\u001b[0mintersection\u001b[0m\u001b[1;33m[\u001b[0m\u001b[1;34m'position_in_lines'\u001b[0m\u001b[1;33m]\u001b[0m\u001b[1;33m)\u001b[0m\u001b[1;33m\u001b[0m\u001b[0m\n\u001b[1;32m---> 21\u001b[1;33m     \u001b[0mP\u001b[0m\u001b[1;33m.\u001b[0m\u001b[0maddConstraint\u001b[0m\u001b[1;33m(\u001b[0m\u001b[0mhline\u001b[0m\u001b[1;33m,\u001b[0m \u001b[0mvline\u001b[0m\u001b[1;33m,\u001b[0m \u001b[0mSAME_LETTER_INTERSECT\u001b[0m\u001b[1;33m)\u001b[0m\u001b[1;33m\u001b[0m\u001b[0m\n\u001b[0m",
      "\u001b[1;32m~\\code\\optim\\optimization\\constraint_programming.py\u001b[0m in \u001b[0;36maddConstraint\u001b[1;34m(self, x, y, relation)\u001b[0m\n\u001b[0;32m     38\u001b[0m         \u001b[0mself\u001b[0m\u001b[1;33m.\u001b[0m\u001b[0mconflict\u001b[0m\u001b[1;33m[\u001b[0m\u001b[0mx\u001b[0m\u001b[1;33m]\u001b[0m\u001b[1;33m.\u001b[0m\u001b[0mappend\u001b[0m\u001b[1;33m(\u001b[0m\u001b[1;33m(\u001b[0m\u001b[0my\u001b[0m\u001b[1;33m,\u001b[0m \u001b[0mrelation\u001b[0m\u001b[1;33m)\u001b[0m\u001b[1;33m)\u001b[0m\u001b[1;33m\u001b[0m\u001b[0m\n\u001b[0;32m     39\u001b[0m         \u001b[0mself\u001b[0m\u001b[1;33m.\u001b[0m\u001b[0mconflict\u001b[0m\u001b[1;33m[\u001b[0m\u001b[0my\u001b[0m\u001b[1;33m]\u001b[0m\u001b[1;33m.\u001b[0m\u001b[0mappend\u001b[0m\u001b[1;33m(\u001b[0m\u001b[1;33m(\u001b[0m\u001b[0mx\u001b[0m\u001b[1;33m,\u001b[0m \u001b[1;33m{\u001b[0m\u001b[1;33m(\u001b[0m\u001b[0mv\u001b[0m\u001b[1;33m,\u001b[0m \u001b[0mu\u001b[0m\u001b[1;33m)\u001b[0m \u001b[1;32mfor\u001b[0m \u001b[1;33m(\u001b[0m\u001b[0mu\u001b[0m\u001b[1;33m,\u001b[0m \u001b[0mv\u001b[0m\u001b[1;33m)\u001b[0m \u001b[1;32min\u001b[0m \u001b[0mrelation\u001b[0m\u001b[1;33m}\u001b[0m\u001b[1;33m)\u001b[0m\u001b[1;33m)\u001b[0m\u001b[1;33m\u001b[0m\u001b[0m\n\u001b[1;32m---> 40\u001b[1;33m \u001b[1;33m\u001b[0m\u001b[0m\n\u001b[0m\u001b[0;32m     41\u001b[0m     \u001b[1;32mdef\u001b[0m \u001b[0mmaintain_arc_consistency\u001b[0m\u001b[1;33m(\u001b[0m\u001b[0mself\u001b[0m\u001b[1;33m)\u001b[0m\u001b[1;33m:\u001b[0m\u001b[1;33m\u001b[0m\u001b[0m\n\u001b[0;32m     42\u001b[0m         \u001b[0mself\u001b[0m\u001b[1;33m.\u001b[0m\u001b[0mmaintain_AC\u001b[0m \u001b[1;33m=\u001b[0m \u001b[1;32mTrue\u001b[0m\u001b[1;33m\u001b[0m\u001b[0m\n",
      "\u001b[1;31mKeyError\u001b[0m: <origin: (1, 2), end: (3, 2)>"
     ]
    }
   ],
   "source": [
    "lines = cw.hlines + cw.vlines\n",
    "\n",
    "# A word is used only once\n",
    "NEQ = {(i, j) for i in words for j in words if i!=j}\n",
    "for line in lines:\n",
    "    for other_line in lines:\n",
    "        if line!=other_line:\n",
    "            P.addConstraint(line, other_line, NEQ)\n",
    "print(NEQ)\n",
    "# Intersections\n",
    "def get_intersection_possibilities(i, j):\n",
    "    return {(word, other_word) for word in words for other_word in words if (word[i]==other_word[j] and word!=other_word)}\n",
    "print(get_intersection_possibilities(0,1))\n",
    "print(intersections)\n",
    "for intersection in intersections:\n",
    "    which_h = intersection['which'][0]\n",
    "    hline = hlines[which_h]\n",
    "    which_v = intersection['which'][1]\n",
    "    vline = vlines[which_v]\n",
    "    SAME_LETTER_INTERSECT = get_intersection_possibilities(*intersection['position_in_lines'])\n",
    "    P.addConstraint(hline, vline, SAME_LETTER_INTERSECT)\n"
   ]
  },
  {
   "cell_type": "code",
   "execution_count": 10,
   "metadata": {
    "collapsed": true
   },
   "outputs": [],
   "source": [
    "vline = Line((0,1), (1,0))\n",
    "vline2 = Line((0,1), (1,0))"
   ]
  },
  {
   "cell_type": "code",
   "execution_count": 11,
   "metadata": {},
   "outputs": [
    {
     "data": {
      "text/plain": [
       "{<origin: (0, 1), end: (1, 0)>: 1, 5: 'b'}"
      ]
     },
     "execution_count": 11,
     "metadata": {},
     "output_type": "execute_result"
    }
   ],
   "source": [
    "a = dict()\n",
    "a[vline] = 1\n",
    "a[5] = 'b'\n",
    "a"
   ]
  },
  {
   "cell_type": "code",
   "execution_count": 21,
   "metadata": {},
   "outputs": [
    {
     "data": {
      "text/plain": [
       "{'toto': [('lala', {'a', 'b'})]}"
      ]
     },
     "execution_count": 21,
     "metadata": {},
     "output_type": "execute_result"
    }
   ],
   "source": [
    "a = ['a', 'b']\n",
    "b = set(a)\n",
    "conflict = {'toto':[('lala', b)]}\n",
    "conflict"
   ]
  },
  {
   "cell_type": "code",
   "execution_count": 22,
   "metadata": {},
   "outputs": [
    {
     "name": "stdout",
     "output_type": "stream",
     "text": [
      "{'a', 'c', 'b'}\n"
     ]
    },
    {
     "data": {
      "text/plain": [
       "{'toto': [('lala', {'a', 'b'}), ('lulu', {'a', 'b', 'c'})]}"
      ]
     },
     "execution_count": 22,
     "metadata": {},
     "output_type": "execute_result"
    }
   ],
   "source": [
    "c = set(['a', 'a', 'b', 'c'])\n",
    "print(c)\n",
    "conflict['toto'].append(('lulu', c))\n",
    "conflict"
   ]
  },
  {
   "cell_type": "code",
   "execution_count": null,
   "metadata": {
    "collapsed": true
   },
   "outputs": [],
   "source": []
  }
 ],
 "metadata": {
  "kernelspec": {
   "display_name": "Python 3",
   "language": "python",
   "name": "python3"
  }
 },
 "nbformat": 4,
 "nbformat_minor": 2
}
